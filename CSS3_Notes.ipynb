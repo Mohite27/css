{
  "cells": [
    {
      "cell_type": "markdown",
      "metadata": {},
      "source": [
        "Cascading Style Sheets (CSS) 3 Notes\n",
        "\n",
        "What is CSS ? \n",
        "CSS stand for Cascading Style Sheets. It allows you to add styles, shadows, transition effects etc.\n",
        "\n",
        "CSS 1 : Released in 1996 \n",
        "CSS 2 : Released in 1998\n",
        "CSS 3 : Released In Development (Split up into independent Modules)"
      ]
    },
    {
      "cell_type": "markdown",
      "metadata": {},
      "source": [
        "Selectors\n",
        "    1. Element  Ex: h1, div etc\n",
        "    2. By classes Ex: .divClass { color: red}\n",
        "    3. Universal Ex: *\n",
        "    4. IDs  #divId {color: red}\n",
        "    5. Attribute Ex: [disabled] { color: red} "
      ]
    },
    {
      "cell_type": "markdown",
      "metadata": {},
      "source": [
        "Cascading Style Sheets & Specificity\n",
        "\n",
        "    Cascading: Multiple Rules can apply to the same Element\n",
        "\n",
        "    Specificity: Resolve conflicts arising from multiple Rules\n",
        "\n",
        "        1. Inline Styles First priority but not recommended to use\n",
        "        2. #ID selector has higher priority\n",
        "        3. .class, :pseudo-class and [attribute] selector has same level \n",
        "                 priority (applied last one from file)\n",
        "        4. <Tag> and ::pseudo-element selector has lowest priority\n",
        "        5. Combinator selector"
      ]
    },
    {
      "cell_type": "markdown",
      "metadata": {},
      "source": [
        "In Cascading Style Sheets (CSS), (1,0,1) is a specificity value that can be \n",
        "    calculated when using a selector that contains a type and an ID. \n",
        "\n",
        "How to calculate specificity\n",
        "    1. Add 1 to the column that corresponds to each type of selector used. \n",
        "    2. Compare the values in each column to determine which selector is more specific. \n",
        "    3. The declaration value in the style block with the matching selector and the greatest algorithmic weight is applied. \n",
        "\n",
        "What are the different selector types? \n",
        "    Type selector: Has the lowest specificity weight and a point value of 0-0-1\n",
        "    Class selector: Has a medium specificity weight and a point value of 0-1-0\n",
        "    ID selector: Has the highest specificity weight of 1-0-0\n",
        "\n",
        "Example: If a selector contains a type followed by an ID, the specificity value would be 1-0-1"
      ]
    },
    {
      "cell_type": "markdown",
      "metadata": {},
      "source": [
        "** Understanding Combinator **\n",
        "\n",
        "    1. Adjacent Sibling: \n",
        "        a.) Elements share the same parent  \n",
        "        b.) Second element comes immediately after first element\n",
        "            div + p {\n",
        "\n",
        "            }\n",
        "    2. General Sibling\n",
        "        a.) Not required to be immediate after first element\n",
        "            div ~ p {\n",
        "\n",
        "            }\n",
        "    3. Child\n",
        "        a.) Any P tag direct child of div\n",
        "            div > p {\n",
        "\n",
        "            }\n",
        "    4. Descendant\n",
        "        a.) Second element is a descendent of the first element\n",
        "            div p {\n",
        "\n",
        "            }"
      ]
    }
  ],
  "metadata": {
    "colab": {
      "provenance": []
    },
    "kernelspec": {
      "display_name": "Python 3",
      "name": "python3"
    },
    "language_info": {
      "name": "python"
    }
  },
  "nbformat": 4,
  "nbformat_minor": 0
}
